{
 "cells": [
  {
   "cell_type": "markdown",
   "source": [
    "# Main Program file for Cancer Predictive Model (Jupyter Notebook Version)\n",
    "## By: Group CL_04"
   ],
   "metadata": {}
  },
  {
   "cell_type": "markdown",
   "source": [
    "### Importing Libraries"
   ],
   "metadata": {}
  },
  {
   "cell_type": "code",
   "execution_count": 2,
   "source": [
    "# Import Libraries\r\n",
    "import numpy as np\r\n",
    "import matplotlib.pyplot as plt\r\n",
    "import pandas as pd\r\n",
    "import time\r\n",
    "import os, random, shutil\r\n",
    "import copy\r\n",
    "\r\n",
    "# Torch Libraries\r\n",
    "import torch\r\n",
    "import torch.nn as nn\r\n",
    "import torch.optim as optim\r\n",
    "import torch.nn.functional as F\r\n",
    "import torchvision\r\n",
    "\r\n",
    "from torchvision import *\r\n",
    "from torch.utils.data import Dataset, DataLoader\r\n",
    "from torchvision.io import read_image\r\n",
    "from PIL import Image"
   ],
   "outputs": [],
   "metadata": {}
  },
  {
   "cell_type": "markdown",
   "source": [
    "### Dividing Dataset (60% training, 20% validation, 20% testing)"
   ],
   "metadata": {}
  },
  {
   "cell_type": "code",
   "execution_count": 3,
   "source": [
    "def img_train_val_test_split(root_dir):\r\n",
    "    \"\"\"\r\n",
    "    This function splits a folder with subfolders into train, test and validation datasets,\r\n",
    "    :param root_dir: a string corresponding to the file path of the folder of subfolders of images,\r\n",
    "    :return: None\r\n",
    "    \"\"\"\r\n",
    "    # A list of strings of subfolder names\r\n",
    "    classes_dir = ['MSIMUT_JPEG', 'MSS_JPEG']\r\n",
    "\r\n",
    "    # Ratio of validation and test datasets\r\n",
    "    val_ratio = 0.20\r\n",
    "    test_ratio = 0.20\r\n",
    "\r\n",
    "    for cls in classes_dir:\r\n",
    "        # Create Train / Val / Test directory for cls\r\n",
    "        os.makedirs(root_dir + 'train/' + cls)\r\n",
    "        os.makedirs(root_dir + 'val/' + cls)\r\n",
    "        os.makedirs(root_dir + 'test/' + cls)\r\n",
    "\r\n",
    "        # Get pathname of cls\r\n",
    "        src = root_dir + cls  # Folder to copy images from\r\n",
    "\r\n",
    "        # split the filenames into chosen training and testing ratio\r\n",
    "        allFileNames = os.listdir(src)\r\n",
    "        np.random.shuffle(allFileNames)\r\n",
    "        train_FileNames, val_FileNames, test_FileNames = np.split(np.array(allFileNames),\r\n",
    "                                                                  [int(len(allFileNames) * (1 - (val_ratio + test_ratio))),\r\n",
    "                                                                   int(len(allFileNames) * (1 - val_ratio)),\r\n",
    "                                                                   ])\r\n",
    "       \r\n",
    "        # copy images into new train folder for cls subfolder\r\n",
    "        for name in train_FileNames:\r\n",
    "            shutil.copy(root_dir + cls + '/' + name, root_dir + 'train/' + cls)\r\n",
    "\r\n",
    "        # copy images into new validation folder for cls subfolder\r\n",
    "        for name in test_FileNames:\r\n",
    "            shutil.copy(root_dir + cls + '/' + name, root_dir + 'val/' + cls)\r\n",
    "\r\n",
    "        # copy images into new test folder for cls subfolder\r\n",
    "        for name in test_FileNames:\r\n",
    "            shutil.copy(root_dir + cls + '/' + name, root_dir + 'test/' + cls)\r\n",
    "        \r\n",
    "    return None"
   ],
   "outputs": [],
   "metadata": {}
  },
  {
   "cell_type": "code",
   "execution_count": 4,
   "source": [
    "# root_dir: filepath of coad_msi_mss (cancer datasets) with '/' at the back\r\n",
    "# root_dir = '/Users/vionnietan/Desktop/trial_dataset/coad_msi_mss/'\r\n",
    "# root_dir = '/Users/elainealverina/Desktop/trial_dataset/'\r\n",
    "\r\n",
    "#root_dir = '/Users/elainealverina/Documents/GitHub/FIT3164-LocalRepo/FIT3164/cancer dataset/coad_msi_mss/'\r\n",
    "#root_dir = '/Users/vionnietan/Desktop/cancer dataset/coad_msi_mss/'\r\n",
    "root_dir = 'C:/Users/jones/Desktop/cancer dataset/coad_msi_mss/'"
   ],
   "outputs": [],
   "metadata": {}
  },
  {
   "cell_type": "code",
   "execution_count": 4,
   "source": [
    "img_train_val_test_split(root_dir)"
   ],
   "outputs": [],
   "metadata": {}
  },
  {
   "cell_type": "markdown",
   "source": [
    "### Preprocessing: Data Augmentation and Normalization"
   ],
   "metadata": {}
  },
  {
   "cell_type": "code",
   "execution_count": 5,
   "source": [
    "# SOURCE: https://pytorch.org/tutorials/beginner/transfer_learning_tutorial.html\r\n",
    "# Preprocessing of Images for Training and Validation datasets.\r\n",
    "# For training, data augmentation and normalization\r\n",
    "# For validation, only normalization\r\n",
    "data_transformation_train = transforms.Compose([transforms.RandomHorizontalFlip(), transforms.ToTensor(), transforms.Normalize([0.485, 0.456, 0.406], [0.229, 0.224, 0.225])])\r\n",
    "data_transformation_val = transforms.Compose([transforms.ToTensor(), transforms.Normalize([0.485, 0.456, 0.406], [0.229, 0.224, 0.225])])\r\n",
    "\r\n",
    "\r\n",
    "# Set directory of training dataset\r\n",
    "#root_dir_train = '/Users/vionnietan/Desktop/trial_dataset/coad_msi_mss/train'\r\n",
    "#root_dir_train = '/Users/vionnietan/Desktop/cancer dataset/coad_msi_mss/train'\r\n",
    "root_dir_train = 'C:/Users/jones/Desktop/cancer dataset/coad_msi_mss/train'\r\n",
    "\r\n",
    "#root_dir_train = '/Users/elainealverina/Documents/GitHub/FIT3164-LocalRepo/FIT3164/cancer dataset/coad_msi_mss/train'\r\n",
    "#root_dir_train = '/Users/elainealverina/Desktop/trial_dataset/train'\r\n",
    "\r\n",
    "# Set directory of validation dataset\r\n",
    "# root_dir_val = '/Users/vionnietan/Desktop/trial_dataset/coad_msi_mss/val'\r\n",
    "# root_dir_val = '/Users/vionnietan/Desktop/cancer dataset/coad_msi_mss/val'\r\n",
    "root_dir_val = 'C:/Users/jones/Desktop/cancer dataset/coad_msi_mss/val'\r\n",
    "\r\n",
    "#root_dir_test = '/Users/elainealverina/Documents/GitHub/FIT3164-LocalRepo/FIT3164/cancer dataset/coad_msi_mss/test'\r\n",
    "#root_dir_test = '/Users/elainealverina/Desktop/trial_dataset/test'"
   ],
   "outputs": [],
   "metadata": {}
  },
  {
   "cell_type": "code",
   "execution_count": 6,
   "source": [
    "# Apply preprocessing to training and validation datasets using root directory and transformations specified\r\n",
    "train_image_dataset = datasets.ImageFolder(root = root_dir_train, transform=data_transformation_train)\r\n",
    "val_image_dataset = datasets.ImageFolder(root = root_dir_val, transform=data_transformation_val)"
   ],
   "outputs": [],
   "metadata": {}
  },
  {
   "cell_type": "markdown",
   "source": [
    "### Prepare DataLoader for training and validation datasets"
   ],
   "metadata": {}
  },
  {
   "cell_type": "code",
   "execution_count": 7,
   "source": [
    "trainloader = DataLoader(train_image_dataset, batch_size=64, shuffle=True)\r\n",
    "valloader = DataLoader(val_image_dataset, batch_size=64, shuffle=True)"
   ],
   "outputs": [],
   "metadata": {}
  },
  {
   "cell_type": "markdown",
   "source": [
    "### Data Visualization (Display some images)"
   ],
   "metadata": {}
  },
  {
   "cell_type": "code",
   "execution_count": 8,
   "source": [
    "# Get class names (MSIMUT, MSS)\r\n",
    "class_names = trainloader.dataset.classes\r\n",
    "\r\n",
    "def show_images(images, labels, preds):\r\n",
    "    \"\"\"\r\n",
    "    This function displays the images to provide a visualization of the data augmentations done on the training\r\n",
    "    dataset.\r\n",
    "    :param images: The current DataLoader of the image at which data augmentation has been done\r\n",
    "    :param labels: The current label of the image\r\n",
    "    :param preds: The predicted label of the image in training dataset\r\n",
    "    :return: a subplot of 1 by 6 cancer images with their labels and predicted labels\r\n",
    "    \"\"\"\r\n",
    "    plt.figure(figsize=(8,4))\r\n",
    "    for i, image in enumerate(images):\r\n",
    "        if i < 5:\r\n",
    "            plt.subplot(1, 6, i+1, xticks=[], yticks=[])\r\n",
    "            \r\n",
    "            # Convert to from tensor to numpy\r\n",
    "            # Take its transpose because\r\n",
    "            # In ResNet implementation, the format for input is n_channels * n_height * n_width (!and not n_height * n_width * n_channels)\r\n",
    "            image = image.numpy().transpose((1, 2, 0))  # Set axes\r\n",
    "            \r\n",
    "            # Images were normalised earlier.\r\n",
    "            # To show the image denormalise the images\r\n",
    "            mean = np.array([0.485, 0.456, 0.406])\r\n",
    "            std = np.array([0.229, 0.224, 0.225])\r\n",
    "            \r\n",
    "            image = image*std + mean\r\n",
    "            image = np.clip(image, 0.,1.)\r\n",
    "            plt.imshow(image)\r\n",
    "            \r\n",
    "            colour = 'green' if preds[i] == labels[i] else 'red'\r\n",
    "            \r\n",
    "            plt.xlabel(f'{class_names[int(labels[i].numpy())]}')\r\n",
    "            plt.ylabel(f'{class_names[int(preds[i].numpy())]}', color=colour)\r\n",
    "        \r\n",
    "    plt.tight_layout()\r\n",
    "    plt.show()"
   ],
   "outputs": [],
   "metadata": {}
  },
  {
   "cell_type": "code",
   "execution_count": 9,
   "source": [
    "# Retrieve batch of training data\r\n",
    "images, labels = next(iter(trainloader))\r\n",
    "\r\n",
    "# Since predictions are not available for training data yet\r\n",
    "# Labels are used in place of predictions\r\n",
    "show_images(images, labels, labels)"
   ],
   "outputs": [
    {
     "output_type": "display_data",
     "data": {
      "image/png": "[encoded data removed]",
      "text/plain": [
       "<Figure size 576x288 with 5 Axes>"
      ]
     },
     "metadata": {}
    }
   ],
   "metadata": {}
  },
  {
   "cell_type": "markdown",
   "source": [
    "### Creating Model - Load resnet18"
   ],
   "metadata": {}
  },
  {
   "cell_type": "code",
   "execution_count": 10,
   "source": [
    "# Load resnet18 pre-trained model\r\n",
    "resnet18 = models.resnet18(pretrained=True)\r\n",
    "\r\n",
    "# Switch to GPU\r\n",
    "device = torch.device(\"cuda:0\" if torch.cuda.is_available() else \"cpu\")"
   ],
   "outputs": [],
   "metadata": {}
  },
  {
   "cell_type": "code",
   "execution_count": 11,
   "source": [
    "# Freeze parameters so we don't backprop through them\r\n",
    "for param in resnet18.parameters():\r\n",
    "    param.requires_grad = False\r\n",
    "    \r\n",
    "# Classifier architecture to put on top of resnet18\r\n",
    "num_ftrs = resnet18.fc.in_features\r\n",
    "\r\n",
    "# Set size of output samples (We only have 2 classes, so out_features = 2)\r\n",
    "resnet18.fc = nn.Linear(num_ftrs, out_features=2)\r\n",
    "\r\n",
    "# Set criterion of model (loss function)\r\n",
    "criterion = nn.CrossEntropyLoss()\r\n",
    "\r\n",
    "# Set Optimizer parameters - make sure all parameters are being optimized\r\n",
    "# optimizer = optim.Adam(resnet18.parameters(), lr=0.0001)\r\n",
    "optimizer = optim.SGD(resnet18.parameters(), lr=0.001, momentum=0.9)\r\n",
    "\r\n",
    "# Decay LR by a factor of 0.1 every 7 epochs\r\n",
    "exp_lr_scheduler = torch.optim.lr_scheduler.StepLR(optimizer, step_size=7, gamma=0.1)\r\n",
    "\r\n",
    "# Send resnet18 model to GPU\r\n",
    "resnet18.to(device)"
   ],
   "outputs": [
    {
     "output_type": "execute_result",
     "data": {
      "text/plain": [
       "ResNet(\n",
       "  (conv1): Conv2d(3, 64, kernel_size=(7, 7), stride=(2, 2), padding=(3, 3), bias=False)\n",
       "  (bn1): BatchNorm2d(64, eps=1e-05, momentum=0.1, affine=True, track_running_stats=True)\n",
       "  (relu): ReLU(inplace=True)\n",
       "  (maxpool): MaxPool2d(kernel_size=3, stride=2, padding=1, dilation=1, ceil_mode=False)\n",
       "  (layer1): Sequential(\n",
       "    (0): BasicBlock(\n",
       "      (conv1): Conv2d(64, 64, kernel_size=(3, 3), stride=(1, 1), padding=(1, 1), bias=False)\n",
       "      (bn1): BatchNorm2d(64, eps=1e-05, momentum=0.1, affine=True, track_running_stats=True)\n",
       "      (relu): ReLU(inplace=True)\n",
       "      (conv2): Conv2d(64, 64, kernel_size=(3, 3), stride=(1, 1), padding=(1, 1), bias=False)\n",
       "      (bn2): BatchNorm2d(64, eps=1e-05, momentum=0.1, affine=True, track_running_stats=True)\n",
       "    )\n",
       "    (1): BasicBlock(\n",
       "      (conv1): Conv2d(64, 64, kernel_size=(3, 3), stride=(1, 1), padding=(1, 1), bias=False)\n",
       "      (bn1): BatchNorm2d(64, eps=1e-05, momentum=0.1, affine=True, track_running_stats=True)\n",
       "      (relu): ReLU(inplace=True)\n",
       "      (conv2): Conv2d(64, 64, kernel_size=(3, 3), stride=(1, 1), padding=(1, 1), bias=False)\n",
       "      (bn2): BatchNorm2d(64, eps=1e-05, momentum=0.1, affine=True, track_running_stats=True)\n",
       "    )\n",
       "  )\n",
       "  (layer2): Sequential(\n",
       "    (0): BasicBlock(\n",
       "      (conv1): Conv2d(64, 128, kernel_size=(3, 3), stride=(2, 2), padding=(1, 1), bias=False)\n",
       "      (bn1): BatchNorm2d(128, eps=1e-05, momentum=0.1, affine=True, track_running_stats=True)\n",
       "      (relu): ReLU(inplace=True)\n",
       "      (conv2): Conv2d(128, 128, kernel_size=(3, 3), stride=(1, 1), padding=(1, 1), bias=False)\n",
       "      (bn2): BatchNorm2d(128, eps=1e-05, momentum=0.1, affine=True, track_running_stats=True)\n",
       "      (downsample): Sequential(\n",
       "        (0): Conv2d(64, 128, kernel_size=(1, 1), stride=(2, 2), bias=False)\n",
       "        (1): BatchNorm2d(128, eps=1e-05, momentum=0.1, affine=True, track_running_stats=True)\n",
       "      )\n",
       "    )\n",
       "    (1): BasicBlock(\n",
       "      (conv1): Conv2d(128, 128, kernel_size=(3, 3), stride=(1, 1), padding=(1, 1), bias=False)\n",
       "      (bn1): BatchNorm2d(128, eps=1e-05, momentum=0.1, affine=True, track_running_stats=True)\n",
       "      (relu): ReLU(inplace=True)\n",
       "      (conv2): Conv2d(128, 128, kernel_size=(3, 3), stride=(1, 1), padding=(1, 1), bias=False)\n",
       "      (bn2): BatchNorm2d(128, eps=1e-05, momentum=0.1, affine=True, track_running_stats=True)\n",
       "    )\n",
       "  )\n",
       "  (layer3): Sequential(\n",
       "    (0): BasicBlock(\n",
       "      (conv1): Conv2d(128, 256, kernel_size=(3, 3), stride=(2, 2), padding=(1, 1), bias=False)\n",
       "      (bn1): BatchNorm2d(256, eps=1e-05, momentum=0.1, affine=True, track_running_stats=True)\n",
       "      (relu): ReLU(inplace=True)\n",
       "      (conv2): Conv2d(256, 256, kernel_size=(3, 3), stride=(1, 1), padding=(1, 1), bias=False)\n",
       "      (bn2): BatchNorm2d(256, eps=1e-05, momentum=0.1, affine=True, track_running_stats=True)\n",
       "      (downsample): Sequential(\n",
       "        (0): Conv2d(128, 256, kernel_size=(1, 1), stride=(2, 2), bias=False)\n",
       "        (1): BatchNorm2d(256, eps=1e-05, momentum=0.1, affine=True, track_running_stats=True)\n",
       "      )\n",
       "    )\n",
       "    (1): BasicBlock(\n",
       "      (conv1): Conv2d(256, 256, kernel_size=(3, 3), stride=(1, 1), padding=(1, 1), bias=False)\n",
       "      (bn1): BatchNorm2d(256, eps=1e-05, momentum=0.1, affine=True, track_running_stats=True)\n",
       "      (relu): ReLU(inplace=True)\n",
       "      (conv2): Conv2d(256, 256, kernel_size=(3, 3), stride=(1, 1), padding=(1, 1), bias=False)\n",
       "      (bn2): BatchNorm2d(256, eps=1e-05, momentum=0.1, affine=True, track_running_stats=True)\n",
       "    )\n",
       "  )\n",
       "  (layer4): Sequential(\n",
       "    (0): BasicBlock(\n",
       "      (conv1): Conv2d(256, 512, kernel_size=(3, 3), stride=(2, 2), padding=(1, 1), bias=False)\n",
       "      (bn1): BatchNorm2d(512, eps=1e-05, momentum=0.1, affine=True, track_running_stats=True)\n",
       "      (relu): ReLU(inplace=True)\n",
       "      (conv2): Conv2d(512, 512, kernel_size=(3, 3), stride=(1, 1), padding=(1, 1), bias=False)\n",
       "      (bn2): BatchNorm2d(512, eps=1e-05, momentum=0.1, affine=True, track_running_stats=True)\n",
       "      (downsample): Sequential(\n",
       "        (0): Conv2d(256, 512, kernel_size=(1, 1), stride=(2, 2), bias=False)\n",
       "        (1): BatchNorm2d(512, eps=1e-05, momentum=0.1, affine=True, track_running_stats=True)\n",
       "      )\n",
       "    )\n",
       "    (1): BasicBlock(\n",
       "      (conv1): Conv2d(512, 512, kernel_size=(3, 3), stride=(1, 1), padding=(1, 1), bias=False)\n",
       "      (bn1): BatchNorm2d(512, eps=1e-05, momentum=0.1, affine=True, track_running_stats=True)\n",
       "      (relu): ReLU(inplace=True)\n",
       "      (conv2): Conv2d(512, 512, kernel_size=(3, 3), stride=(1, 1), padding=(1, 1), bias=False)\n",
       "      (bn2): BatchNorm2d(512, eps=1e-05, momentum=0.1, affine=True, track_running_stats=True)\n",
       "    )\n",
       "  )\n",
       "  (avgpool): AdaptiveAvgPool2d(output_size=(1, 1))\n",
       "  (fc): Linear(in_features=512, out_features=2, bias=True)\n",
       ")"
      ]
     },
     "metadata": {},
     "execution_count": 11
    }
   ],
   "metadata": {}
  },
  {
   "cell_type": "code",
   "execution_count": 56,
   "source": [
    "class_names2 = trainloader.dataset.classes\r\n",
    "\r\n",
    "def show_images2(images, labels, preds):\r\n",
    "    plt.figure(figsize=(8,4))\r\n",
    "    for i, image in enumerate(images):\r\n",
    "        if i < 5:\r\n",
    "            plt.subplot(1, 6, i+1, xticks=[], yticks=[])\r\n",
    "                \r\n",
    "            # Convert to from tensor to numpy\r\n",
    "            # Take its transpose because\r\n",
    "            # In ResNet implementation, the format for input is n_channels * n_height * n_width (!and not n_height * n_width * n_channels)\r\n",
    "            image = image.numpy().transpose((1, 2, 0))  # Set axes\r\n",
    "                \r\n",
    "            # Images were normalised earlier.\r\n",
    "            # To show the image denormalise the images\r\n",
    "            mean = np.array([0.485, 0.456, 0.406])\r\n",
    "            std = np.array([0.229, 0.224, 0.225])\r\n",
    "                \r\n",
    "            image = image*std + mean\r\n",
    "            image = np.clip(image, 0.,1.)\r\n",
    "            plt.imshow(image)\r\n",
    "\r\n",
    "            if preds[i] == 2:\r\n",
    "                p = 1\r\n",
    "            else:\r\n",
    "                p = 0\r\n",
    "            colour = 'green' if p == labels[i] else 'red'\r\n",
    "                \r\n",
    "            plt.xlabel(f'{class_names2[int(labels[i].numpy())]}')\r\n",
    "            plt.ylabel(f'{class_names2[p]}', color=colour)\r\n",
    "        \r\n",
    "    plt.tight_layout()\r\n",
    "    plt.show()"
   ],
   "outputs": [],
   "metadata": {}
  },
  {
   "cell_type": "code",
   "execution_count": null,
   "source": [
    "def show_preds():\r\n",
    "    resnet18.eval()    # set to evaluation mode\r\n",
    "    images, labels = next(iter(valloader))\r\n",
    "    outputs = resnet18(images)\r\n",
    "    _ , preds = torch.max(outputs, 1)\r\n",
    "    #print(labels)\r\n",
    "    show_images2(images, labels, preds)"
   ],
   "outputs": [],
   "metadata": {}
  },
  {
   "cell_type": "code",
   "execution_count": null,
   "source": [
    "show_preds()"
   ],
   "outputs": [],
   "metadata": {}
  },
  {
   "cell_type": "markdown",
   "source": [
    "### Training Model"
   ],
   "metadata": {}
  },
  {
   "cell_type": "code",
   "execution_count": 12,
   "source": [
    "# Note training losses and acc, alongside validation losses and acc for visualization after training\r\n",
    "train_losses = []\r\n",
    "train_acc = []\r\n",
    "\r\n",
    "val_losses = []\r\n",
    "val_acc = []\r\n",
    "\r\n",
    "def train_model(model, criterion, optimizer, scheduler, num_epochs):\r\n",
    "    \"\"\"\r\n",
    "    This function trains the current model, each epoch has a training and validation phase\r\n",
    "    :param model: The current resnet18 model loaded \r\n",
    "    :param criterion: Criterion set to the model\r\n",
    "    :param optimizer: The optimizer parameter of the model\r\n",
    "    :param scheduler: LR Scheduler Object\r\n",
    "    :param num_epochs: Number of epochs the train_model function is going to run for\r\n",
    "    :return: Each epoch with a training and validation loss, alongside their accuracy and saves the best\r\n",
    "    model with highest accuracy\r\n",
    "    \"\"\"\r\n",
    "\r\n",
    "    # Take note of time\r\n",
    "    since = time.time()\r\n",
    "    \r\n",
    "    # Deep copy the best model\r\n",
    "    best_model_wts = copy.deepcopy(model.state_dict())\r\n",
    "    best_acc = 0.0\r\n",
    "\r\n",
    "    # Run for num_epochs times\r\n",
    "    for epoch in range(num_epochs):\r\n",
    "        print('Epoch {}/{}'.format(epoch + 1, num_epochs))\r\n",
    "        print('--' * 5)\r\n",
    "\r\n",
    "        # Each epoch has a training and validation phase\r\n",
    "        for phase in ['train', 'val']:\r\n",
    "            if phase == 'train':\r\n",
    "                condition = trainloader\r\n",
    "                size = len(train_image_dataset)\r\n",
    "            else:\r\n",
    "                condition = valloader\r\n",
    "                size = len(val_image_dataset)\r\n",
    "\r\n",
    "            if phase == 'train':\r\n",
    "                scheduler.step()\r\n",
    "                model.train()  # Set model to training mode\r\n",
    "            else:\r\n",
    "                model.eval()   # Set model to evaluate mode\r\n",
    "\r\n",
    "            running_loss = 0.0\r\n",
    "            running_corrects = 0\r\n",
    "\r\n",
    "            # Iterate over data.\r\n",
    "            for inputs, labels in condition:\r\n",
    "                inputs = inputs.to(device)\r\n",
    "                labels = labels.to(device)\r\n",
    "\r\n",
    "                # zero the parameter gradients\r\n",
    "                optimizer.zero_grad()\r\n",
    "\r\n",
    "                # forward\r\n",
    "                # track history if only in train\r\n",
    "                with torch.set_grad_enabled(phase == 'train'):\r\n",
    "                    outputs = model(inputs)\r\n",
    "                    _, preds = torch.max(outputs, 1)\r\n",
    "                    loss = criterion(outputs, labels)\r\n",
    "\r\n",
    "                    # backward + optimize only if in training phase\r\n",
    "                    if phase == 'train':\r\n",
    "                        loss.backward()\r\n",
    "                        optimizer.step()\r\n",
    "\r\n",
    "                # statistics\r\n",
    "                running_loss += loss.item() * inputs.size(0)\r\n",
    "                running_corrects += torch.sum(preds == labels.data)\r\n",
    "            \r\n",
    "            epoch_loss = running_loss / size\r\n",
    "            epoch_acc = running_corrects.double() / size\r\n",
    "\r\n",
    "            print('{} Loss: {:.4f} Acc: {:.4f}'.format(phase, epoch_loss, epoch_acc))\r\n",
    "\r\n",
    "            if phase == 'val':\r\n",
    "                val_losses.append(epoch_loss)\r\n",
    "                val_acc.append(epoch_acc)\r\n",
    "            else:\r\n",
    "                train_losses.append(epoch_loss)\r\n",
    "                train_acc.append(epoch_acc)\r\n",
    "                \r\n",
    "            # deep copy the model\r\n",
    "            \r\n",
    "            if phase == 'val' and epoch_acc > best_acc:\r\n",
    "                best_acc = epoch_acc\r\n",
    "                best_model_wts = copy.deepcopy(model.state_dict())\r\n",
    "\r\n",
    "        print()\r\n",
    "\r\n",
    "    time_elapsed = time.time() - since\r\n",
    "    print('Training complete in {:.0f}m {:.0f}s'.format(time_elapsed // 60, time_elapsed % 60))\r\n",
    "    print('Best val Acc: {:4f}'.format(best_acc))\r\n",
    "\r\n",
    "    # Load the best model\r\n",
    "    model.load_state_dict(best_model_wts)\r\n",
    "    return model"
   ],
   "outputs": [],
   "metadata": {}
  },
  {
   "cell_type": "code",
   "execution_count": 13,
   "source": [
    "# Set number of epochs to train\r\n",
    "num_epochs = 10\r\n",
    "\r\n",
    "# Call train_model function with the model, criterion, optimizer, scheduler and number of epochs as parameters\r\n",
    "model_resnet18 = train_model(resnet18, criterion, optimizer, exp_lr_scheduler, num_epochs)"
   ],
   "outputs": [
    {
     "output_type": "stream",
     "name": "stdout",
     "text": [
      "Epoch 1/10\n",
      "----------\n"
     ]
    },
    {
     "output_type": "stream",
     "name": "stderr",
     "text": [
      "C:\\Users\\jones\\anaconda3\\lib\\site-packages\\torch\\optim\\lr_scheduler.py:129: UserWarning: Detected call of `lr_scheduler.step()` before `optimizer.step()`. In PyTorch 1.1.0 and later, you should call them in the opposite order: `optimizer.step()` before `lr_scheduler.step()`.  Failure to do this will result in PyTorch skipping the first value of the learning rate schedule. See more details at https://pytorch.org/docs/stable/optim.html#how-to-adjust-learning-rate\n",
      "  warnings.warn(\"Detected call of `lr_scheduler.step()` before `optimizer.step()`. \"\n",
      "C:\\Users\\jones\\anaconda3\\lib\\site-packages\\torch\\nn\\functional.py:718: UserWarning: Named tensors and all their associated APIs are an experimental feature and subject to change. Please do not use them for anything important until they are released as stable. (Triggered internally at  ..\\c10/core/TensorImpl.h:1156.)\n",
      "  return torch.max_pool2d(input, kernel_size, stride, padding, dilation, ceil_mode)\n"
     ]
    },
    {
     "output_type": "stream",
     "name": "stdout",
     "text": [
      "train Loss: 0.6808 Acc: 0.5943\n",
      "val Loss: 0.6360 Acc: 0.6427\n",
      "\n",
      "Epoch 2/10\n",
      "----------\n",
      "train Loss: 0.6271 Acc: 0.6520\n",
      "val Loss: 0.6299 Acc: 0.6510\n",
      "\n",
      "Epoch 3/10\n",
      "----------\n",
      "train Loss: 0.6117 Acc: 0.6754\n",
      "val Loss: 0.6107 Acc: 0.6667\n",
      "\n",
      "Epoch 4/10\n",
      "----------\n",
      "train Loss: 0.5919 Acc: 0.6855\n",
      "val Loss: 0.6064 Acc: 0.6768\n",
      "\n",
      "Epoch 5/10\n",
      "----------\n",
      "train Loss: 0.5886 Acc: 0.6873\n",
      "val Loss: 0.6030 Acc: 0.6750\n",
      "\n",
      "Epoch 6/10\n",
      "----------\n",
      "train Loss: 0.5867 Acc: 0.6944\n",
      "val Loss: 0.6054 Acc: 0.6722\n",
      "\n",
      "Epoch 7/10\n",
      "----------\n",
      "train Loss: 0.5718 Acc: 0.7015\n",
      "val Loss: 0.5980 Acc: 0.6805\n",
      "\n",
      "Epoch 8/10\n",
      "----------\n",
      "train Loss: 0.5653 Acc: 0.7128\n",
      "val Loss: 0.5960 Acc: 0.6878\n",
      "\n",
      "Epoch 9/10\n",
      "----------\n",
      "train Loss: 0.5691 Acc: 0.7088\n",
      "val Loss: 0.5980 Acc: 0.6860\n",
      "\n",
      "Epoch 10/10\n",
      "----------\n",
      "train Loss: 0.5658 Acc: 0.7147\n",
      "val Loss: 0.5970 Acc: 0.6796\n",
      "\n",
      "Training complete in 2m 58s\n",
      "Best val Acc: 0.687845\n"
     ]
    }
   ],
   "metadata": {}
  },
  {
   "cell_type": "code",
   "execution_count": 14,
   "source": [
    "# Plot losses of training and validation \r\n",
    "plt.plot(train_losses, label='Training loss')\r\n",
    "plt.plot(val_losses, label='Validation loss')\r\n",
    "plt.legend(frameon=False)\r\n",
    "plt.show()"
   ],
   "outputs": [
    {
     "output_type": "display_data",
     "data": {
      "image/png": "[encoded data removed]",
      "text/plain": [
       "<Figure size 432x288 with 1 Axes>"
      ]
     },
     "metadata": {
      "needs_background": "light"
     }
    }
   ],
   "metadata": {}
  },
  {
   "cell_type": "code",
   "execution_count": 15,
   "source": [
    "# Save the best model\r\n",
    "#torch.save(model_resnet18, '/Users/vionnietan/Desktop/FIT3163 - FIT3164/FIT3164/FIT3164/resnet18.pth')\r\n",
    "torch.save(model_resnet18, 'C:/Users/jones/Desktop/FIT3164/22septmodel.pth')"
   ],
   "outputs": [],
   "metadata": {}
  },
  {
   "cell_type": "code",
   "execution_count": null,
   "source": [
    "import pickle\r\n",
    "filename = '18septmodel.sav'\r\n",
    "pickle.dump(model_resnet18,open(filename,'wb'))"
   ],
   "outputs": [],
   "metadata": {}
  },
  {
   "cell_type": "code",
   "execution_count": null,
   "source": [
    "pkl_filename = '18septmodel.pkl'\r\n",
    "with open(pkl_filename,'wb') as file:\r\n",
    "    pickle.dump(model_resnet18,file)"
   ],
   "outputs": [],
   "metadata": {}
  },
  {
   "cell_type": "code",
   "execution_count": null,
   "source": [
    "with open('model/finalized_model.pkl','rb') as file:\r\n",
    "    model = pickle.load(file)"
   ],
   "outputs": [],
   "metadata": {}
  }
 ],
 "metadata": {
  "kernelspec": {
   "name": "python3",
   "display_name": "Python 3.8.8 64-bit ('base': conda)"
  },
  "language_info": {
   "name": "python",
   "version": "3.8.8",
   "mimetype": "text/x-python",
   "codemirror_mode": {
    "name": "ipython",
    "version": 3
   },
   "pygments_lexer": "ipython3",
   "nbconvert_exporter": "python",
   "file_extension": ".py"
  },
  "interpreter": {
   "hash": "ebf8d43d3d173dc48345ffb6b59ad16b10ee255e28de3a129e6f6400e8327d9f"
  }
 },
 "nbformat": 4,
 "nbformat_minor": 4
}