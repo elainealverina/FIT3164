{
 "cells": [
  {
   "cell_type": "markdown",
   "source": [
    "# Main Program file for Cancer Predictive Model (Jupyter Notebook Version)\n",
    "## By: Group CL_04"
   ],
   "metadata": {}
  },
  {
   "cell_type": "markdown",
   "source": [
    "### Importing Libraries"
   ],
   "metadata": {}
  },
  {
   "cell_type": "code",
   "execution_count": 1,
   "source": [
    "# Import Libraries\r\n",
    "import numpy as np\r\n",
    "import matplotlib.pyplot as plt\r\n",
    "import pandas as pd\r\n",
    "import time\r\n",
    "import os, random, shutil\r\n",
    "import copy\r\n",
    "\r\n",
    "# Torch Libraries\r\n",
    "import torch\r\n",
    "import torch.nn as nn\r\n",
    "import torch.optim as optim\r\n",
    "import torch.nn.functional as F\r\n",
    "import torchvision\r\n",
    "\r\n",
    "from torchvision import *\r\n",
    "from torch.utils.data import Dataset, DataLoader\r\n",
    "from torchvision.io import read_image\r\n",
    "from PIL import Image"
   ],
   "outputs": [],
   "metadata": {}
  },
  {
   "cell_type": "markdown",
   "source": [
    "### Dividing Dataset (60% training, 20% validation, 20% testing)"
   ],
   "metadata": {}
  },
  {
   "cell_type": "code",
   "execution_count": 2,
   "source": [
    "def img_train_val_test_split(root_dir):\r\n",
    "    \"\"\"\r\n",
    "    This function splits a folder with subfolders into train, test and validation datasets,\r\n",
    "    :param root_dir: a string corresponding to the file path of the folder of subfolders of images,\r\n",
    "    :return: None\r\n",
    "    \"\"\"\r\n",
    "    # A list of strings of subfolder names\r\n",
    "    classes_dir = ['MSIMUT_JPEG', 'MSS_JPEG']\r\n",
    "\r\n",
    "    # Ratio of validation and test datasets\r\n",
    "    val_ratio = 0.20\r\n",
    "    test_ratio = 0.20\r\n",
    "\r\n",
    "    for cls in classes_dir:\r\n",
    "        # Create Train / Val / Test directory for cls\r\n",
    "        os.makedirs(root_dir + 'train/' + cls)\r\n",
    "        os.makedirs(root_dir + 'val/' + cls)\r\n",
    "        os.makedirs(root_dir + 'test/' + cls)\r\n",
    "\r\n",
    "        # Get pathname of cls\r\n",
    "        src = root_dir + cls  # Folder to copy images from\r\n",
    "\r\n",
    "        # split the filenames into chosen training and testing ratio\r\n",
    "        allFileNames = os.listdir(src)\r\n",
    "        np.random.shuffle(allFileNames)\r\n",
    "        train_FileNames, val_FileNames, test_FileNames = np.split(np.array(allFileNames),\r\n",
    "                                                                  [int(len(allFileNames) * (1 - (val_ratio + test_ratio))),\r\n",
    "                                                                   int(len(allFileNames) * (1 - val_ratio)),\r\n",
    "                                                                   ])\r\n",
    "       \r\n",
    "        # copy images into new train folder for cls subfolder\r\n",
    "        for name in train_FileNames:\r\n",
    "            shutil.copy(root_dir + cls + '/' + name, root_dir + 'train/' + cls)\r\n",
    "\r\n",
    "        # copy images into new validation folder for cls subfolder\r\n",
    "        for name in test_FileNames:\r\n",
    "            shutil.copy(root_dir + cls + '/' + name, root_dir + 'val/' + cls)\r\n",
    "\r\n",
    "        # copy images into new test folder for cls subfolder\r\n",
    "        for name in test_FileNames:\r\n",
    "            shutil.copy(root_dir + cls + '/' + name, root_dir + 'test/' + cls)\r\n",
    "        \r\n",
    "    return None"
   ],
   "outputs": [],
   "metadata": {}
  },
  {
   "cell_type": "code",
   "execution_count": 3,
   "source": [
    "# root_dir: filepath of coad_msi_mss (cancer datasets) with '/' at the back\r\n",
    "# root_dir = '/Users/vionnietan/Desktop/trial_dataset/coad_msi_mss/'\r\n",
    "# root_dir = '/Users/elainealverina/Desktop/trial_dataset/'\r\n",
    "\r\n",
    "#root_dir = '/Users/elainealverina/Documents/GitHub/FIT3164-LocalRepo/FIT3164/cancer dataset/coad_msi_mss/'\r\n",
    "#root_dir = '/Users/vionnietan/Desktop/cancer dataset/coad_msi_mss/'\r\n",
    "root_dir = 'C:/Users/jones/Desktop/cancer dataset/coad_msi_mss/'"
   ],
   "outputs": [],
   "metadata": {}
  },
  {
   "cell_type": "code",
   "execution_count": 4,
   "source": [
    "img_train_val_test_split(root_dir)"
   ],
   "outputs": [],
   "metadata": {}
  },
  {
   "cell_type": "markdown",
   "source": [
    "### Preprocessing: Data Augmentation and Normalization"
   ],
   "metadata": {}
  },
  {
   "cell_type": "code",
   "execution_count": 5,
   "source": [
    "# SOURCE: https://pytorch.org/tutorials/beginner/transfer_learning_tutorial.html\r\n",
    "# Preprocessing of Images for Training and Validation datasets.\r\n",
    "# For training, data augmentation and normalization\r\n",
    "# For validation, only normalization\r\n",
    "#data_transformation_train = transforms.Compose([transforms.RandomHorizontalFlip(), transforms.ToTensor(), transforms.Normalize([0.485, 0.456, 0.406], [0.229, 0.224, 0.225])])\r\n",
    "#data_transformation_val = transforms.Compose([transforms.ToTensor(), transforms.Normalize([0.485, 0.456, 0.406], [0.229, 0.224, 0.225])])\r\n",
    "\r\n",
    "data_transformation_train = transforms.Compose([\r\n",
    "        transforms.RandomResizedCrop(size=256, scale=(0.8, 1.0)),\r\n",
    "        transforms.RandomRotation(degrees=15),\r\n",
    "        transforms.ColorJitter(),\r\n",
    "        transforms.RandomHorizontalFlip(),\r\n",
    "        transforms.CenterCrop(size=224),  # Image net standards\r\n",
    "        transforms.ToTensor(),\r\n",
    "        transforms.Normalize([0.485, 0.456, 0.406],\r\n",
    "                             [0.229, 0.224, 0.225])  # Imagenet standards\r\n",
    "    ])\r\n",
    "\r\n",
    "data_transformation_val = transforms.Compose([\r\n",
    "        transforms.Resize(size=256),\r\n",
    "        transforms.CenterCrop(size=224),\r\n",
    "        transforms.ToTensor(),\r\n",
    "        transforms.Normalize([0.485, 0.456, 0.406], [0.229, 0.224, 0.225])\r\n",
    "    ])\r\n",
    "\r\n",
    "\r\n",
    "# Set directory of training dataset\r\n",
    "#root_dir_train = '/Users/vionnietan/Desktop/trial_dataset/coad_msi_mss/train'\r\n",
    "#root_dir_train = '/Users/vionnietan/Desktop/cancer dataset/coad_msi_mss/train'\r\n",
    "root_dir_train = 'C:/Users/jones/Desktop/cancer dataset/coad_msi_mss/train'\r\n",
    "\r\n",
    "#root_dir_train = '/Users/elainealverina/Documents/GitHub/FIT3164-LocalRepo/FIT3164/cancer dataset/coad_msi_mss/train'\r\n",
    "#root_dir_train = '/Users/elainealverina/Desktop/trial_dataset/train'\r\n",
    "\r\n",
    "# Set directory of validation dataset\r\n",
    "# root_dir_val = '/Users/vionnietan/Desktop/trial_dataset/coad_msi_mss/val'\r\n",
    "# root_dir_val = '/Users/vionnietan/Desktop/cancer dataset/coad_msi_mss/val'\r\n",
    "root_dir_val = 'C:/Users/jones/Desktop/cancer dataset/coad_msi_mss/val'\r\n",
    "\r\n",
    "#root_dir_test = '/Users/elainealverina/Documents/GitHub/FIT3164-LocalRepo/FIT3164/cancer dataset/coad_msi_mss/test'\r\n",
    "#root_dir_test = '/Users/elainealverina/Desktop/trial_dataset/test'"
   ],
   "outputs": [],
   "metadata": {}
  },
  {
   "cell_type": "code",
   "execution_count": 6,
   "source": [
    "# Apply preprocessing to training and validation datasets using root directory and transformations specified\r\n",
    "train_image_dataset = datasets.ImageFolder(root = root_dir_train, transform=data_transformation_train)\r\n",
    "val_image_dataset = datasets.ImageFolder(root = root_dir_val, transform=data_transformation_val)"
   ],
   "outputs": [],
   "metadata": {}
  },
  {
   "cell_type": "markdown",
   "source": [
    "### Prepare DataLoader for training and validation datasets"
   ],
   "metadata": {}
  },
  {
   "cell_type": "code",
   "execution_count": 7,
   "source": [
    "trainloader = DataLoader(train_image_dataset, batch_size=128, shuffle=True)\r\n",
    "valloader = DataLoader(val_image_dataset, batch_size=128, shuffle=True)"
   ],
   "outputs": [],
   "metadata": {}
  },
  {
   "cell_type": "markdown",
   "source": [
    "### Data Visualization (Display some images)"
   ],
   "metadata": {}
  },
  {
   "cell_type": "code",
   "execution_count": 8,
   "source": [
    "# Get class names (MSIMUT, MSS)\r\n",
    "class_names = trainloader.dataset.classes\r\n",
    "\r\n",
    "def show_images(images, labels, preds):\r\n",
    "    \"\"\"\r\n",
    "    This function displays the images to provide a visualization of the data augmentations done on the training\r\n",
    "    dataset.\r\n",
    "    :param images: The current DataLoader of the image at which data augmentation has been done\r\n",
    "    :param labels: The current label of the image\r\n",
    "    :param preds: The predicted label of the image in training dataset\r\n",
    "    :return: a subplot of 1 by 6 cancer images with their labels and predicted labels\r\n",
    "    \"\"\"\r\n",
    "    plt.figure(figsize=(8,4))\r\n",
    "    for i, image in enumerate(images):\r\n",
    "        if i < 5:\r\n",
    "            plt.subplot(1, 6, i+1, xticks=[], yticks=[])\r\n",
    "            \r\n",
    "            # Convert to from tensor to numpy\r\n",
    "            # Take its transpose because\r\n",
    "            # In ResNet implementation, the format for input is n_channels * n_height * n_width (!and not n_height * n_width * n_channels)\r\n",
    "            image = image.numpy().transpose((1, 2, 0))  # Set axes\r\n",
    "            \r\n",
    "            # Images were normalised earlier.\r\n",
    "            # To show the image denormalise the images\r\n",
    "            mean = np.array([0.485, 0.456, 0.406])\r\n",
    "            std = np.array([0.229, 0.224, 0.225])\r\n",
    "            \r\n",
    "            image = image*std + mean\r\n",
    "            image = np.clip(image, 0.,1.)\r\n",
    "            plt.imshow(image)\r\n",
    "            \r\n",
    "            colour = 'green' if preds[i] == labels[i] else 'red'\r\n",
    "            \r\n",
    "            plt.xlabel(f'{class_names[int(labels[i].numpy())]}')\r\n",
    "            plt.ylabel(f'{class_names[int(preds[i].numpy())]}', color=colour)\r\n",
    "        \r\n",
    "    plt.tight_layout()\r\n",
    "    plt.show()"
   ],
   "outputs": [],
   "metadata": {}
  },
  {
   "cell_type": "code",
   "execution_count": 9,
   "source": [
    "# Retrieve batch of training data\r\n",
    "images, labels = next(iter(trainloader))\r\n",
    "\r\n",
    "# Since predictions are not available for training data yet\r\n",
    "# Labels are used in place of predictions\r\n",
    "show_images(images, labels, labels)"
   ],
   "outputs": [
    {
     "output_type": "display_data",
     "data": {
      "image/png": "[encoded data removed]",
      "text/plain": [
       "<Figure size 576x288 with 5 Axes>"
      ]
     },
     "metadata": {}
    }
   ],
   "metadata": {}
  },
  {
   "cell_type": "markdown",
   "source": [
    "### Creating Model - Load resnet18"
   ],
   "metadata": {}
  },
  {
   "cell_type": "code",
   "execution_count": 13,
   "source": [
    "# Load resnet18 pre-trained model\r\n",
    "#resnet18 = models.resnet18(pretrained=True)\r\n",
    "#vgg16 = models.vgg16(pretrained=True)\r\n",
    "resnet50 = models.resnet50(pretrained=True)\r\n",
    "# Switch to GPU\r\n",
    "device = torch.device(\"cuda:0\" if torch.cuda.is_available() else \"cpu\")"
   ],
   "outputs": [
    {
     "output_type": "stream",
     "name": "stderr",
     "text": [
      "Downloading: \"https://download.pytorch.org/models/resnet50-0676ba61.pth\" to C:\\Users\\jones/.cache\\torch\\hub\\checkpoints\\resnet50-0676ba61.pth\n",
      "100%|██████████| 97.8M/97.8M [00:15<00:00, 6.56MB/s]\n"
     ]
    }
   ],
   "metadata": {}
  },
  {
   "cell_type": "code",
   "execution_count": 14,
   "source": [
    "vgg16.classifier"
   ],
   "outputs": [
    {
     "output_type": "execute_result",
     "data": {
      "text/plain": [
       "Sequential(\n",
       "  (0): Linear(in_features=25088, out_features=4096, bias=True)\n",
       "  (1): ReLU(inplace=True)\n",
       "  (2): Dropout(p=0.5, inplace=False)\n",
       "  (3): Linear(in_features=4096, out_features=4096, bias=True)\n",
       "  (4): ReLU(inplace=True)\n",
       "  (5): Dropout(p=0.5, inplace=False)\n",
       "  (6): Linear(in_features=4096, out_features=1000, bias=True)\n",
       ")"
      ]
     },
     "metadata": {},
     "execution_count": 14
    }
   ],
   "metadata": {}
  },
  {
   "cell_type": "code",
   "execution_count": 10,
   "source": [
    "# Freeze parameters so we don't backprop through them\r\n",
    "for param in resnet50.parameters():\r\n",
    "    param.requires_grad = False\r\n",
    "    \r\n",
    "# Classifier architecture to put on top of resnet18\r\n",
    "#num_ftrs = vgg16.fc.in_features\r\n",
    "\"\"\"\r\n",
    "res.classifier[6] = nn.Sequential(\r\n",
    "                      nn.Linear(4096, 256), \r\n",
    "                      nn.ReLU(), \r\n",
    "                      nn.Dropout(0.4),\r\n",
    "                      nn.Linear(256, 2),                   \r\n",
    "                      nn.LogSoftmax(dim=1))\r\n",
    "\"\"\"\r\n",
    "fc_inputs = resnet50.fc.in_features\r\n",
    "resnet50.fc = nn.Sequential(\r\n",
    "    nn.Linear(fc_inputs, 256),\r\n",
    "    nn.ReLU(),\r\n",
    "    nn.Dropout(0.4),\r\n",
    "    nn.Linear(256, 10),\r\n",
    "    nn.LogSoftmax(dim=1) # For using NLLLoss()\r\n",
    ")\r\n",
    "\r\n",
    "# Set size of output samples (We only have 2 classes, so out_features = 2)\r\n",
    "#resnet18.fc = nn.Linear(num_ftrs, out_features=2)\r\n",
    "\r\n",
    "# Set criterion of model (loss function)\r\n",
    "# criterion = nn.CrossEntropyLoss()\r\n",
    "criterion = nn.NLLLoss()\r\n",
    "# Set Optimizer parameters - make sure all parameters are being optimized\r\n",
    "# optimizer = optim.Adam(resnet18.parameters(), lr=0.0001)\r\n",
    "# optimizer = optim.SGD(resnet18.parameters(), lr=0.001, momentum=0.9)\r\n",
    "optimizer = optim.Adam(resnet50.parameters(),lr=0.0001)\r\n",
    "\r\n",
    "\r\n",
    "# Decay LR by a factor of 0.1 every 7 epochs\r\n",
    "exp_lr_scheduler = optim.lr_scheduler.StepLR(optimizer, step_size=7, gamma=0.1)\r\n",
    "\r\n",
    "# Send resnet18 model to GPU\r\n",
    "resnet50.to(device)"
   ],
   "outputs": [
    {
     "output_type": "execute_result",
     "data": {
      "text/plain": [
       "VGG(\n",
       "  (features): Sequential(\n",
       "    (0): Conv2d(3, 64, kernel_size=(3, 3), stride=(1, 1), padding=(1, 1))\n",
       "    (1): ReLU(inplace=True)\n",
       "    (2): Conv2d(64, 64, kernel_size=(3, 3), stride=(1, 1), padding=(1, 1))\n",
       "    (3): ReLU(inplace=True)\n",
       "    (4): MaxPool2d(kernel_size=2, stride=2, padding=0, dilation=1, ceil_mode=False)\n",
       "    (5): Conv2d(64, 128, kernel_size=(3, 3), stride=(1, 1), padding=(1, 1))\n",
       "    (6): ReLU(inplace=True)\n",
       "    (7): Conv2d(128, 128, kernel_size=(3, 3), stride=(1, 1), padding=(1, 1))\n",
       "    (8): ReLU(inplace=True)\n",
       "    (9): MaxPool2d(kernel_size=2, stride=2, padding=0, dilation=1, ceil_mode=False)\n",
       "    (10): Conv2d(128, 256, kernel_size=(3, 3), stride=(1, 1), padding=(1, 1))\n",
       "    (11): ReLU(inplace=True)\n",
       "    (12): Conv2d(256, 256, kernel_size=(3, 3), stride=(1, 1), padding=(1, 1))\n",
       "    (13): ReLU(inplace=True)\n",
       "    (14): Conv2d(256, 256, kernel_size=(3, 3), stride=(1, 1), padding=(1, 1))\n",
       "    (15): ReLU(inplace=True)\n",
       "    (16): MaxPool2d(kernel_size=2, stride=2, padding=0, dilation=1, ceil_mode=False)\n",
       "    (17): Conv2d(256, 512, kernel_size=(3, 3), stride=(1, 1), padding=(1, 1))\n",
       "    (18): ReLU(inplace=True)\n",
       "    (19): Conv2d(512, 512, kernel_size=(3, 3), stride=(1, 1), padding=(1, 1))\n",
       "    (20): ReLU(inplace=True)\n",
       "    (21): Conv2d(512, 512, kernel_size=(3, 3), stride=(1, 1), padding=(1, 1))\n",
       "    (22): ReLU(inplace=True)\n",
       "    (23): MaxPool2d(kernel_size=2, stride=2, padding=0, dilation=1, ceil_mode=False)\n",
       "    (24): Conv2d(512, 512, kernel_size=(3, 3), stride=(1, 1), padding=(1, 1))\n",
       "    (25): ReLU(inplace=True)\n",
       "    (26): Conv2d(512, 512, kernel_size=(3, 3), stride=(1, 1), padding=(1, 1))\n",
       "    (27): ReLU(inplace=True)\n",
       "    (28): Conv2d(512, 512, kernel_size=(3, 3), stride=(1, 1), padding=(1, 1))\n",
       "    (29): ReLU(inplace=True)\n",
       "    (30): MaxPool2d(kernel_size=2, stride=2, padding=0, dilation=1, ceil_mode=False)\n",
       "  )\n",
       "  (avgpool): AdaptiveAvgPool2d(output_size=(7, 7))\n",
       "  (classifier): Sequential(\n",
       "    (0): Linear(in_features=25088, out_features=4096, bias=True)\n",
       "    (1): ReLU(inplace=True)\n",
       "    (2): Dropout(p=0.5, inplace=False)\n",
       "    (3): Linear(in_features=4096, out_features=4096, bias=True)\n",
       "    (4): ReLU(inplace=True)\n",
       "    (5): Dropout(p=0.5, inplace=False)\n",
       "    (6): Sequential(\n",
       "      (0): Linear(in_features=4096, out_features=256, bias=True)\n",
       "      (1): ReLU()\n",
       "      (2): Dropout(p=0.4, inplace=False)\n",
       "      (3): Linear(in_features=256, out_features=2, bias=True)\n",
       "      (4): LogSoftmax(dim=1)\n",
       "    )\n",
       "  )\n",
       ")"
      ]
     },
     "metadata": {},
     "execution_count": 10
    }
   ],
   "metadata": {}
  },
  {
   "cell_type": "code",
   "execution_count": 56,
   "source": [
    "class_names2 = trainloader.dataset.classes\r\n",
    "\r\n",
    "def show_images2(images, labels, preds):\r\n",
    "    plt.figure(figsize=(8,4))\r\n",
    "    for i, image in enumerate(images):\r\n",
    "        if i < 5:\r\n",
    "            plt.subplot(1, 6, i+1, xticks=[], yticks=[])\r\n",
    "                \r\n",
    "            # Convert to from tensor to numpy\r\n",
    "            # Take its transpose because\r\n",
    "            # In ResNet implementation, the format for input is n_channels * n_height * n_width (!and not n_height * n_width * n_channels)\r\n",
    "            image = image.numpy().transpose((1, 2, 0))  # Set axes\r\n",
    "                \r\n",
    "            # Images were normalised earlier.\r\n",
    "            # To show the image denormalise the images\r\n",
    "            mean = np.array([0.485, 0.456, 0.406])\r\n",
    "            std = np.array([0.229, 0.224, 0.225])\r\n",
    "                \r\n",
    "            image = image*std + mean\r\n",
    "            image = np.clip(image, 0.,1.)\r\n",
    "            plt.imshow(image)\r\n",
    "\r\n",
    "            if preds[i] == 2:\r\n",
    "                p = 1\r\n",
    "            else:\r\n",
    "                p = 0\r\n",
    "            colour = 'green' if p == labels[i] else 'red'\r\n",
    "                \r\n",
    "            plt.xlabel(f'{class_names2[int(labels[i].numpy())]}')\r\n",
    "            plt.ylabel(f'{class_names2[p]}', color=colour)\r\n",
    "        \r\n",
    "    plt.tight_layout()\r\n",
    "    plt.show()"
   ],
   "outputs": [],
   "metadata": {}
  },
  {
   "cell_type": "code",
   "execution_count": null,
   "source": [
    "def show_preds():\r\n",
    "    resnet18.eval()    # set to evaluation mode\r\n",
    "    images, labels = next(iter(valloader))\r\n",
    "    outputs = resnet18(images)\r\n",
    "    _ , preds = torch.max(outputs, 1)\r\n",
    "    #print(labels)\r\n",
    "    show_images2(images, labels, preds)"
   ],
   "outputs": [],
   "metadata": {}
  },
  {
   "cell_type": "code",
   "execution_count": null,
   "source": [
    "show_preds()"
   ],
   "outputs": [],
   "metadata": {}
  },
  {
   "cell_type": "markdown",
   "source": [
    "### Training Model"
   ],
   "metadata": {}
  },
  {
   "cell_type": "code",
   "execution_count": 11,
   "source": [
    "# Note training losses and acc, alongside validation losses and acc for visualization after training\r\n",
    "train_losses = []\r\n",
    "train_acc = []\r\n",
    "\r\n",
    "val_losses = []\r\n",
    "val_acc = []\r\n",
    "\r\n",
    "def train_model(model, criterion, optimizer, scheduler, num_epochs):\r\n",
    "    \"\"\"\r\n",
    "    This function trains the current model, each epoch has a training and validation phase\r\n",
    "    :param model: The current resnet18 model loaded \r\n",
    "    :param criterion: Criterion set to the model\r\n",
    "    :param optimizer: The optimizer parameter of the model\r\n",
    "    :param scheduler: LR Scheduler Object\r\n",
    "    :param num_epochs: Number of epochs the train_model function is going to run for\r\n",
    "    :return: Each epoch with a training and validation loss, alongside their accuracy and saves the best\r\n",
    "    model with highest accuracy\r\n",
    "    \"\"\"\r\n",
    "\r\n",
    "    # Take note of time\r\n",
    "    since = time.time()\r\n",
    "    \r\n",
    "    # Deep copy the best model\r\n",
    "    best_model_wts = copy.deepcopy(model.state_dict())\r\n",
    "    best_acc = 0.0\r\n",
    "\r\n",
    "    # Run for num_epochs times\r\n",
    "    for epoch in range(num_epochs):\r\n",
    "        print('Epoch {}/{}'.format(epoch + 1, num_epochs))\r\n",
    "        print('--' * 5)\r\n",
    "\r\n",
    "        # Each epoch has a training and validation phase\r\n",
    "        for phase in ['train', 'val']:\r\n",
    "            if phase == 'train':\r\n",
    "                condition = trainloader\r\n",
    "                size = len(train_image_dataset)\r\n",
    "            else:\r\n",
    "                condition = valloader\r\n",
    "                size = len(val_image_dataset)\r\n",
    "\r\n",
    "            if phase == 'train':\r\n",
    "                model.train()  # Set model to training mode\r\n",
    "            else:\r\n",
    "                model.eval()   # Set model to evaluate mode\r\n",
    "\r\n",
    "            running_loss = 0.0\r\n",
    "            running_corrects = 0\r\n",
    "\r\n",
    "            # Iterate over data.\r\n",
    "            for inputs, labels in condition:\r\n",
    "                inputs = inputs.to(device)\r\n",
    "                labels = labels.to(device)\r\n",
    "\r\n",
    "                # zero the parameter gradients\r\n",
    "                optimizer.zero_grad()\r\n",
    "\r\n",
    "                # forward\r\n",
    "                # track history if only in train\r\n",
    "                with torch.set_grad_enabled(phase == 'train'):\r\n",
    "                    outputs = model(inputs)\r\n",
    "                    _, preds = torch.max(outputs, 1)\r\n",
    "                    loss = criterion(outputs, labels)\r\n",
    "\r\n",
    "                    # backward + optimize only if in training phase\r\n",
    "                    if phase == 'train':\r\n",
    "                        loss.backward()\r\n",
    "                        optimizer.step()\r\n",
    "\r\n",
    "                # statistics\r\n",
    "                running_loss += loss.item() * inputs.size(0)\r\n",
    "                running_corrects += torch.sum(preds == labels.data)\r\n",
    "                \r\n",
    "            if phase == 'train':\r\n",
    "                scheduler.step()\r\n",
    "            epoch_loss = running_loss / size\r\n",
    "            epoch_acc = running_corrects.double() / size\r\n",
    "\r\n",
    "            print('{} Loss: {:.4f} Acc: {:.4f}'.format(phase, epoch_loss, epoch_acc))\r\n",
    "\r\n",
    "            if phase == 'val':\r\n",
    "                val_losses.append(epoch_loss)\r\n",
    "                val_acc.append(epoch_acc)\r\n",
    "            else:\r\n",
    "                train_losses.append(epoch_loss)\r\n",
    "                train_acc.append(epoch_acc)\r\n",
    "                \r\n",
    "            # deep copy the model\r\n",
    "            \r\n",
    "            if phase == 'val' and epoch_acc > best_acc:\r\n",
    "                best_acc = epoch_acc\r\n",
    "                best_model_wts = copy.deepcopy(model.state_dict())\r\n",
    "\r\n",
    "        print()\r\n",
    "\r\n",
    "    time_elapsed = time.time() - since\r\n",
    "    print('Training complete in {:.0f}m {:.0f}s'.format(time_elapsed // 60, time_elapsed % 60))\r\n",
    "    print('Best val Acc: {:4f}'.format(best_acc))\r\n",
    "\r\n",
    "    # Load the best model\r\n",
    "    model.load_state_dict(best_model_wts)\r\n",
    "    return model"
   ],
   "outputs": [],
   "metadata": {}
  },
  {
   "cell_type": "code",
   "execution_count": 12,
   "source": [
    "# Set number of epochs to train\r\n",
    "num_epochs = 5\r\n",
    "\r\n",
    "# Call train_model function with the model, criterion, optimizer, scheduler and number of epochs as parameters\r\n",
    "model_resnet18 = train_model(vgg16, criteration, optimizer, exp_lr_scheduler, num_epochs)"
   ],
   "outputs": [
    {
     "output_type": "stream",
     "name": "stdout",
     "text": [
      "Epoch 1/5\n",
      "----------\n"
     ]
    },
    {
     "output_type": "stream",
     "name": "stderr",
     "text": [
      "C:\\Users\\jones\\Anaconda3\\lib\\site-packages\\torch\\optim\\lr_scheduler.py:129: UserWarning: Detected call of `lr_scheduler.step()` before `optimizer.step()`. In PyTorch 1.1.0 and later, you should call them in the opposite order: `optimizer.step()` before `lr_scheduler.step()`.  Failure to do this will result in PyTorch skipping the first value of the learning rate schedule. See more details at https://pytorch.org/docs/stable/optim.html#how-to-adjust-learning-rate\n",
      "  warnings.warn(\"Detected call of `lr_scheduler.step()` before `optimizer.step()`. \"\n",
      "C:\\Users\\jones\\Anaconda3\\lib\\site-packages\\torch\\nn\\functional.py:718: UserWarning: Named tensors and all their associated APIs are an experimental feature and subject to change. Please do not use them for anything important until they are released as stable. (Triggered internally at  ..\\c10/core/TensorImpl.h:1156.)\n",
      "  return torch.max_pool2d(input, kernel_size, stride, padding, dilation, ceil_mode)\n"
     ]
    },
    {
     "output_type": "stream",
     "name": "stdout",
     "text": [
      "train Loss: 0.6833 Acc: 0.5894\n",
      "val Loss: 0.6541 Acc: 0.6225\n",
      "\n",
      "Epoch 2/5\n",
      "----------\n",
      "train Loss: 0.6594 Acc: 0.6222\n",
      "val Loss: 0.6470 Acc: 0.6105\n",
      "\n",
      "Epoch 3/5\n",
      "----------\n",
      "train Loss: 0.6532 Acc: 0.6189\n",
      "val Loss: 0.6471 Acc: 0.6225\n",
      "\n",
      "Epoch 4/5\n",
      "----------\n",
      "train Loss: 0.6502 Acc: 0.6250\n",
      "val Loss: 0.6324 Acc: 0.6538\n",
      "\n",
      "Epoch 5/5\n",
      "----------\n",
      "train Loss: 0.6426 Acc: 0.6284\n",
      "val Loss: 0.6422 Acc: 0.6363\n",
      "\n",
      "Training complete in 26m 47s\n",
      "Best val Acc: 0.653775\n"
     ]
    }
   ],
   "metadata": {}
  },
  {
   "cell_type": "code",
   "execution_count": 14,
   "source": [
    "# Plot losses of training and validation \r\n",
    "plt.plot(train_losses, label='Training loss')\r\n",
    "plt.plot(val_losses, label='Validation loss')\r\n",
    "plt.legend(frameon=False)\r\n",
    "plt.show()"
   ],
   "outputs": [
    {
     "output_type": "display_data",
     "data": {
      "image/png": "[encoded data removed]",
      "text/plain": [
       "<Figure size 432x288 with 1 Axes>"
      ]
     },
     "metadata": {
      "needs_background": "light"
     }
    }
   ],
   "metadata": {}
  },
  {
   "cell_type": "code",
   "execution_count": 16,
   "source": [
    "# Save the best model\r\n",
    "#torch.save(model_resnet18, '/Users/vionnietan/Desktop/FIT3163 - FIT3164/FIT3164/FIT3164/resnet18.pth')\r\n",
    "torch.save(model_resnet18, 'C:/Users/jones/Desktop/FIT3164/24septmodel.pth')"
   ],
   "outputs": [],
   "metadata": {}
  },
  {
   "cell_type": "code",
   "execution_count": 14,
   "source": [
    "import pickle\r\n",
    "filename = '24septmodel.sav'\r\n",
    "pickle.dump(model_resnet18,open(filename,'wb'))"
   ],
   "outputs": [],
   "metadata": {}
  },
  {
   "cell_type": "code",
   "execution_count": 15,
   "source": [
    "pkl_filename = '24septmodel.pkl'\r\n",
    "with open(pkl_filename,'wb') as file:\r\n",
    "    pickle.dump(model_resnet18,file)"
   ],
   "outputs": [],
   "metadata": {}
  },
  {
   "cell_type": "code",
   "execution_count": null,
   "source": [
    "with open('model/finalized_model.pkl','rb') as file:\r\n",
    "    model = pickle.load(file)"
   ],
   "outputs": [],
   "metadata": {}
  },
  {
   "cell_type": "code",
   "execution_count": 2,
   "source": [
    "pip install flask_sqlalchemy"
   ],
   "outputs": [
    {
     "output_type": "stream",
     "name": "stdout",
     "text": [
      "Collecting flask_sqlalchemy\n",
      "  Downloading Flask_SQLAlchemy-2.5.1-py2.py3-none-any.whl (17 kB)\n",
      "Requirement already satisfied: SQLAlchemy>=0.8.0 in c:\\users\\jones\\anaconda3\\lib\\site-packages (from flask_sqlalchemy) (1.4.7)\n",
      "Requirement already satisfied: Flask>=0.10 in c:\\users\\jones\\anaconda3\\lib\\site-packages (from flask_sqlalchemy) (1.1.2)\n",
      "Requirement already satisfied: Werkzeug>=0.15 in c:\\users\\jones\\anaconda3\\lib\\site-packages (from Flask>=0.10->flask_sqlalchemy) (1.0.1)\n",
      "Requirement already satisfied: Jinja2>=2.10.1 in c:\\users\\jones\\anaconda3\\lib\\site-packages (from Flask>=0.10->flask_sqlalchemy) (2.11.3)\n",
      "Requirement already satisfied: itsdangerous>=0.24 in c:\\users\\jones\\anaconda3\\lib\\site-packages (from Flask>=0.10->flask_sqlalchemy) (1.1.0)\n",
      "Requirement already satisfied: click>=5.1 in c:\\users\\jones\\anaconda3\\lib\\site-packages (from Flask>=0.10->flask_sqlalchemy) (7.1.2)\n",
      "Requirement already satisfied: MarkupSafe>=0.23 in c:\\users\\jones\\anaconda3\\lib\\site-packages (from Jinja2>=2.10.1->Flask>=0.10->flask_sqlalchemy) (1.1.1)\n",
      "Requirement already satisfied: greenlet!=0.4.17 in c:\\users\\jones\\anaconda3\\lib\\site-packages (from SQLAlchemy>=0.8.0->flask_sqlalchemy) (1.0.0)\n",
      "Installing collected packages: flask-sqlalchemy\n",
      "Successfully installed flask-sqlalchemy-2.5.1\n",
      "Note: you may need to restart the kernel to use updated packages.\n"
     ]
    }
   ],
   "metadata": {}
  }
 ],
 "metadata": {
  "kernelspec": {
   "name": "python3",
   "display_name": "Python 3.8.8 64-bit ('base': conda)"
  },
  "language_info": {
   "name": "python",
   "version": "3.8.8",
   "mimetype": "text/x-python",
   "codemirror_mode": {
    "name": "ipython",
    "version": 3
   },
   "pygments_lexer": "ipython3",
   "nbconvert_exporter": "python",
   "file_extension": ".py"
  },
  "interpreter": {
   "hash": "39a190c749d32fb61bac8622a44c3427ad612ce63b074d3a9247eb6341a0f9c0"
  }
 },
 "nbformat": 4,
 "nbformat_minor": 4
}