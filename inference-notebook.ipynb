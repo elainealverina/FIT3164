{
    "cells": [
        {
            "cell_type": "code",
            "execution_count": 18,
            "metadata": {},
            "outputs": [],
            "source": [
                "# Import Libraries\n",
                "import matplotlib.pyplot as plt\n",
                "import numpy as np\n",
                "import torch\n",
                "import pandas as pd\n",
                "\n",
                "from torch import nn\n",
                "from torch import optim\n",
                "import torch.nn.functional as F\n",
                "from torch.utils.data import Dataset, DataLoader\n",
                "from torchvision import datasets, transforms, models\n",
                "from PIL import Image\n",
                "from torch.autograd import Variable\n",
                "from typing import Union\n",
                "from PIL import Image\n",
                "from torch import Tensor"
            ]
        },
        {
            "cell_type": "code",
            "execution_count": null,
            "metadata": {},
            "outputs": [],
            "source": [
                "# SOURCE: https://pytorch.org/tutorials/beginner/transfer_learning_tutorial.html\n",
                "root_dir_test = 'C:/Users/jones/Desktop/cancer dataset/coad_msi_mss/test'\n",
                "data_transformation_test = transforms.Compose([transforms.ToTensor(), transforms.Normalize([0.485, 0.456, 0.406], [0.229, 0.224, 0.225])])\n",
                "\n",
                "test_image_dataset = datasets.ImageFolder(root = root_dir_test, transform=data_transformation_test)\n",
                "testloader = DataLoader(test_image_dataset, batch_size=16, shuffle=True)"
            ]
        },
        {
            "cell_type": "code",
            "execution_count": null,
            "metadata": {},
            "outputs": [],
            "source": [
                "device = torch.device(\"cuda\" if torch.cuda.is_available() else \"cpu\")\n",
                "model = torch.load('C:/Users/jones/Desktop/FIT3164/best_model.pth')\n",
                "model.eval()\n",
                "model"
            ]
        },
        {
            "cell_type": "code",
            "execution_count": null,
            "metadata": {},
            "outputs": [],
            "source": [
                "# SOURCE: https://github.com/kvarun07/covid-19-detection/blob/main/Covid-19-detection.ipynb\n",
                "class_names = testloader.dataset.classes\n",
                "\n",
                "def show_images(images, labels, preds):\n",
                "    plt.figure(figsize=(8,4))\n",
                "    for i, image in enumerate(images):\n",
                "        if i < 5:\n",
                "            plt.subplot(1, 6, i+1, xticks=[], yticks=[])\n",
                "            image = image.numpy().transpose((1, 2, 0))\n",
                "            \n",
                "            mean = np.array([0.485, 0.456, 0.406])\n",
                "            std = np.array([0.229, 0.224, 0.225])\n",
                "            \n",
                "            image = image*std + mean\n",
                "            image = np.clip(image, 0.,1.)\n",
                "            plt.imshow(image)\n",
                "            \n",
                "            colour = 'green' if preds[i] == labels[i] else 'red'\n",
                "            plt.xlabel(f'{class_names[int(labels[i].numpy())]}')\n",
                "            plt.ylabel(f'{class_names[int(preds[i].numpy())]}', color=colour)\n",
                "    plt.tight_layout()        \n",
                "    plt.show()"
            ]
        },
        {
            "cell_type": "code",
            "execution_count": null,
            "metadata": {},
            "outputs": [],
            "source": [
                "# SOURCE: https://github.com/kvarun07/covid-19-detection/blob/main/Covid-19-detection.ipynb\n",
                "def show_preds():\n",
                "    model.eval()    # set to evaluation mode\n",
                "    images, labels = next(iter(testloader))\n",
                "    outputs = model(images)\n",
                "    _ , preds = torch.max(outputs, 1)\n",
                "    show_images(images, labels, preds)"
            ]
        },
        {
            "cell_type": "code",
            "execution_count": null,
            "metadata": {},
            "outputs": [],
            "source": [
                "show_preds()"
            ]
        },
        {
            "cell_type": "code",
            "execution_count": 19,
            "metadata": {},
            "outputs": [
                {
                    "name": "stdout",
                    "output_type": "stream",
                    "text": [
                        "Confusion matrix for resnet18: \n",
                        "[[224 210]\n",
                        " [129 523]]\n",
                        "AUC score for model resnet18: 0.659138135760934\n"
                    ]
                }
            ],
            "source": [
                "# SOURCE: https://www.kaggle.com/yangdliu/notebook285235a998\n",
                "def to_numpy(tensor: Union[Tensor, Image.Image, np.array]) -> np.ndarray:\n",
                "    if type(tensor) == np.array or type(tensor) == np.ndarray:\n",
                "        return np.array(tensor)\n",
                "    elif type(tensor) == Image.Image:\n",
                "        return np.array(tensor)\n",
                "    elif type(tensor) == Tensor:\n",
                "        return tensor.cpu().detach().numpy()\n",
                "    else:\n",
                "        raise ValueError()\n",
                "\n",
                "from sklearn.metrics import confusion_matrix\n",
                "from sklearn.metrics import roc_auc_score\n",
                "\n",
                "def test_label_predictions(model, device, test_loader):\n",
                "    model.eval()\n",
                "    actuals = []\n",
                "    predictions = []\n",
                "    with torch.no_grad():\n",
                "        for inputs, labels in test_loader:\n",
                "            inputs, labels = inputs.to(device), labels.to(device)\n",
                "            outputs = model(inputs)\n",
                "            prediction = outputs.argmax(dim=1, keepdim=True)\n",
                "            actuals.extend(to_numpy(labels.view_as(prediction)))\n",
                "            predictions.extend(to_numpy(prediction))\n",
                "            \n",
                "    return [i.item() for i in actuals], [i.item() for i in predictions]\n",
                "\n",
                "actuals, predictions = test_label_predictions(model, device, testloader)\n",
                "print('Confusion matrix for resnet50: ')\n",
                "print(confusion_matrix(actuals, predictions))\n",
                "print('AUC score for model resnet50: '+str(roc_auc_score(actuals,predictions)))"
            ]
        }
    ],
    "metadata": {
        "interpreter": {
            "hash": "ebf8d43d3d173dc48345ffb6b59ad16b10ee255e28de3a129e6f6400e8327d9f"
        },
        "kernelspec": {
            "display_name": "Python 3.8.8 64-bit ('base': conda)",
            "name": "python3"
        },
        "language_info": {
            "codemirror_mode": {
                "name": "ipython",
                "version": 3
            },
            "file_extension": ".py",
            "mimetype": "text/x-python",
            "name": "python",
            "nbconvert_exporter": "python",
            "pygments_lexer": "ipython3",
            "version": "3.8.8"
        },
        "orig_nbformat": 4
    },
    "nbformat": 4,
    "nbformat_minor": 2
}
