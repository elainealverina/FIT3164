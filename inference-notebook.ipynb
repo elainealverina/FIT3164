{
    "cells": [
        {
            "cell_type": "code",
            "execution_count": null,
            "source": [
                "import matplotlib.pyplot as plt\n",
                "import numpy as np\n",
                "import torch\n",
                "import pandas as pd\n",
                "\n",
                "from torch import nn\n",
                "from torch import optim\n",
                "import torch.nn.functional as F\n",
                "from torch.utils.data import Dataset, DataLoader\n",
                "from torchvision import datasets, transforms, models\n",
                "from PIL import Image\n",
                "from torch.autograd import Variable\n",
                "from typing import Union\n",
                "from PIL import Image\n",
                "from torch import Tensor"
            ],
            "outputs": [],
            "metadata": {}
        },
        {
            "cell_type": "code",
            "execution_count": null,
            "source": [
                "root_dir_test = '/Users/vionnietan/Desktop/trial_dataset/coad_msi_mss/test'\n",
                "\n",
                "data_transformation_test = transforms.Compose([transforms.ToTensor(), transforms.Normalize([0.485, 0.456, 0.406], [0.229, 0.224, 0.225])])\n",
                "\n",
                "test_image_dataset = datasets.ImageFolder(root = root_dir_test, transform=data_transformation_test)\n",
                "testloader = DataLoader(test_image_dataset, batch_size=128, shuffle=True)"
            ],
            "outputs": [],
            "metadata": {}
        },
        {
            "cell_type": "code",
            "execution_count": null,
            "source": [
                "device = torch.device(\"cuda\" if torch.cuda.is_available() else \"cpu\")\n",
                "model=torch.load('/Users/vionnietan/Desktop/resnet18.pth')\n",
                "model.eval()\n",
                "model"
            ],
            "outputs": [],
            "metadata": {}
        },
        {
            "cell_type": "code",
            "execution_count": null,
            "source": [
                "def predict_image(image):\n",
                "    image_tensor = data_transformation_test(image).float()\n",
                "    image_tensor = image_tensor.unsqueeze_(0)\n",
                "    input = Variable(image_tensor)\n",
                "    input = input.to(device)\n",
                "    output = model(input)\n",
                "    index = output.data.cpu().numpy().argmax()\n",
                "    return index  \n",
                "\n",
                "def get_random_images(num):\n",
                "    data = datasets.ImageFolder(root_dir_test, transform=data_transformation_test)\n",
                "    classes = data.classes\n",
                "    indices = list(range(len(data)))\n",
                "    np.random.shuffle(indices)\n",
                "    idx = indices[:num]\n",
                "    \n",
                "    from torch.utils.data.sampler import SubsetRandomSampler\n",
                "    sampler = SubsetRandomSampler(idx)\n",
                "    loader = torch.utils.data.DataLoader(data, sampler=sampler, batch_size=num)\n",
                "    dataiter = iter(loader)\n",
                "    images, labels = dataiter.next()\n",
                "    return images, labels"
            ],
            "outputs": [],
            "metadata": {}
        },
        {
            "cell_type": "code",
            "execution_count": null,
            "source": [
                "to_pil = transforms.ToPILImage()\n",
                "images, labels = get_random_images(5)\n",
                "fig=plt.figure(figsize=(10,10))\n",
                "for ii in range(len(images)):\n",
                "    image = to_pil(images[ii])\n",
                "    index = predict_image(image)\n",
                "    sub = fig.add_subplot(1, len(images), ii+1)\n",
                "    res = int(labels[ii]) == index\n",
                "    #sub.set_title(str(classes[index]) + \":\" + str(res))\n",
                "    plt.axis('off')\n",
                "    plt.imshow(image)\n",
                "plt.show()"
            ],
            "outputs": [],
            "metadata": {}
        },
        {
            "cell_type": "code",
            "execution_count": null,
            "source": [
                "def to_numpy(tensor: Union[Tensor, Image.Image, np.array]) -> np.ndarray:\n",
                "    if type(tensor) == np.array or type(tensor) == np.ndarray:\n",
                "        return np.array(tensor)\n",
                "    elif type(tensor) == Image.Image:\n",
                "        return np.array(tensor)\n",
                "    elif type(tensor) == Tensor:\n",
                "        return tensor.cpu().detach().numpy()\n",
                "    else:\n",
                "        raise ValueError()"
            ],
            "outputs": [],
            "metadata": {}
        },
        {
            "cell_type": "code",
            "execution_count": null,
            "source": [
                "from sklearn.metrics import confusion_matrix\n",
                "from sklearn.metrics import roc_auc_score\n",
                "\n",
                "def test_label_predictions(model, device, test_loader):\n",
                "    model.eval()\n",
                "    actuals = []\n",
                "    predictions = []\n",
                "    with torch.no_grad():\n",
                "        for inputs, labels in test_loader:\n",
                "            inputs, labels = inputs.to(device), labels.to(device)\n",
                "            outputs = model(inputs)\n",
                "            prediction = outputs.argmax(dim=1, keepdim=True)\n",
                "            actuals.extend(to_numpy(labels.view_as(prediction)))\n",
                "            predictions.extend(to_numpy(prediction))\n",
                "            \n",
                "    return [i.item() for i in actuals], [i.item() for i in predictions]\n",
                "\n",
                "actuals, predictions = test_label_predictions(model, device, testloader)\n",
                "print('Confusion matrix for resnet18: ')\n",
                "print(confusion_matrix(actuals, predictions))\n",
                "print('AUC score for model resnet18: '+str(roc_auc_score(actuals,predictions)))"
            ],
            "outputs": [],
            "metadata": {}
        }
    ],
    "metadata": {
        "orig_nbformat": 4,
        "language_info": {
            "name": "python",
            "version": "3.9.5",
            "mimetype": "text/x-python",
            "codemirror_mode": {
                "name": "ipython",
                "version": 3
            },
            "pygments_lexer": "ipython3",
            "nbconvert_exporter": "python",
            "file_extension": ".py"
        },
        "kernelspec": {
            "name": "python3",
            "display_name": "Python 3.9.5 64-bit"
        },
        "interpreter": {
            "hash": "aee8b7b246df8f9039afb4144a1f6fd8d2ca17a180786b69acc140d282b71a49"
        }
    },
    "nbformat": 4,
    "nbformat_minor": 2
}